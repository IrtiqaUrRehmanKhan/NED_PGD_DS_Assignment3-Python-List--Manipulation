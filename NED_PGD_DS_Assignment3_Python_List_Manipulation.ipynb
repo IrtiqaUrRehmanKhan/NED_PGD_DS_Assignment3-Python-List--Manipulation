{
  "nbformat": 4,
  "nbformat_minor": 0,
  "metadata": {
    "colab": {
      "provenance": [],
      "authorship_tag": "ABX9TyOHbX/7GsWxcmgpg3ORozlq",
      "include_colab_link": true
    },
    "kernelspec": {
      "name": "python3",
      "display_name": "Python 3"
    },
    "language_info": {
      "name": "python"
    }
  },
  "cells": [
    {
      "cell_type": "markdown",
      "metadata": {
        "id": "view-in-github",
        "colab_type": "text"
      },
      "source": [
        "<a href=\"https://colab.research.google.com/github/IrtiqaUrRehmanKhan/NED_PGD_DS_Assignment3-Python-List--Manipulation/blob/main/NED_PGD_DS_Assignment3_Python_List_Manipulation.ipynb\" target=\"_parent\"><img src=\"https://colab.research.google.com/assets/colab-badge.svg\" alt=\"Open In Colab\"/></a>"
      ]
    },
    {
      "cell_type": "markdown",
      "source": [
        "**Question 1:** Basic List Operations"
      ],
      "metadata": {
        "id": "nMj1xkVknsLr"
      }
    },
    {
      "cell_type": "code",
      "source": [
        "# a) Create a list named 'fruits'\n",
        "fruits = [\"apple\", \"banana\", \"orange\", \"grape\", \"kiwi\"]\n",
        "\n",
        "print(fruits)\n"
      ],
      "metadata": {
        "colab": {
          "base_uri": "https://localhost:8080/"
        },
        "id": "ifJ7MCR_oByV",
        "outputId": "4a13d350-ff48-457e-b9a2-e6b7a1f46882"
      },
      "execution_count": null,
      "outputs": [
        {
          "output_type": "stream",
          "name": "stdout",
          "text": [
            "['apple', 'banana', 'orange', 'grape', 'kiwi']\n"
          ]
        }
      ]
    },
    {
      "cell_type": "code",
      "source": [
        "# b) Add \"pear\" to the end of the list\n",
        "fruits.append(\"pear\")\n",
        "\n",
        "print(fruits)\n"
      ],
      "metadata": {
        "colab": {
          "base_uri": "https://localhost:8080/"
        },
        "id": "e65zJu82oZrh",
        "outputId": "64c812a0-3498-4bb4-d0de-59795f8c7f00"
      },
      "execution_count": null,
      "outputs": [
        {
          "output_type": "stream",
          "name": "stdout",
          "text": [
            "['apple', 'banana', 'orange', 'grape', 'kiwi', 'pear']\n"
          ]
        }
      ]
    },
    {
      "cell_type": "code",
      "source": [
        "# c) Insert \"mango\" at the second position in the list\n",
        "fruits.insert(1, \"mango\")\n",
        "\n",
        "print(fruits)\n"
      ],
      "metadata": {
        "colab": {
          "base_uri": "https://localhost:8080/"
        },
        "id": "BpGb94Lxojl4",
        "outputId": "95583415-52b4-463f-c254-371c15be18bb"
      },
      "execution_count": null,
      "outputs": [
        {
          "output_type": "stream",
          "name": "stdout",
          "text": [
            "['apple', 'mango', 'banana', 'orange', 'grape', 'kiwi', 'pear']\n"
          ]
        }
      ]
    },
    {
      "cell_type": "code",
      "source": [
        "# d) Remove \"orange\" from the list\n",
        "fruits.remove(\"orange\")\n",
        "\n",
        "print(fruits)\n"
      ],
      "metadata": {
        "colab": {
          "base_uri": "https://localhost:8080/"
        },
        "id": "mo-I_C0Xo9WO",
        "outputId": "f1f0752b-2ab4-4d2e-f292-97841b02d0be"
      },
      "execution_count": null,
      "outputs": [
        {
          "output_type": "stream",
          "name": "stdout",
          "text": [
            "['apple', 'mango', 'banana', 'grape', 'kiwi', 'pear']\n"
          ]
        }
      ]
    },
    {
      "cell_type": "markdown",
      "source": [
        "**Question 2:** Slicing and Indexing"
      ],
      "metadata": {
        "id": "WJBjlQu4pFuF"
      }
    },
    {
      "cell_type": "code",
      "source": [
        "# a) Create a list named 'numbers' containing the integers from 0 to 9\n",
        "numbers = list(range(10))\n",
        "\n",
        "print(numbers)"
      ],
      "metadata": {
        "colab": {
          "base_uri": "https://localhost:8080/"
        },
        "id": "3ryfYWC4pOd2",
        "outputId": "8f01767d-6395-44b1-ff46-98ddbc942494"
      },
      "execution_count": null,
      "outputs": [
        {
          "output_type": "stream",
          "name": "stdout",
          "text": [
            "[0, 1, 2, 3, 4, 5, 6, 7, 8, 9]\n"
          ]
        }
      ]
    },
    {
      "cell_type": "code",
      "source": [
        "# b) Print the element at index 3\n",
        "print(\"Element at index 3:\", numbers[3])\n"
      ],
      "metadata": {
        "colab": {
          "base_uri": "https://localhost:8080/"
        },
        "id": "uuEYxf-5p9BE",
        "outputId": "bd2af0af-221d-4a53-dc45-2dcd563501ef"
      },
      "execution_count": null,
      "outputs": [
        {
          "output_type": "stream",
          "name": "stdout",
          "text": [
            "Element at index 3: 3\n"
          ]
        }
      ]
    },
    {
      "cell_type": "code",
      "source": [
        "# c) Print a sublist containing the elements from index 2 to 6 (inclusive)\n",
        "sublist = numbers[2:7]\n",
        "\n",
        "print(\"Sublist from index 2 to 6:\", sublist)\n"
      ],
      "metadata": {
        "colab": {
          "base_uri": "https://localhost:8080/"
        },
        "id": "BN2truQtqM84",
        "outputId": "cbcb2762-df38-47c1-f5aa-1ac7949a6470"
      },
      "execution_count": null,
      "outputs": [
        {
          "output_type": "stream",
          "name": "stdout",
          "text": [
            "Sublist from index 2 to 6: [2, 3, 4, 5, 6]\n"
          ]
        }
      ]
    },
    {
      "cell_type": "code",
      "source": [
        "# d) Print the last three elements using negative indexing\n",
        "last_three = numbers[-3:]\n",
        "\n",
        "print(\"Last three elements:\", last_three)\n"
      ],
      "metadata": {
        "colab": {
          "base_uri": "https://localhost:8080/"
        },
        "id": "MoYJbaT8qhLd",
        "outputId": "b65b79b5-83c3-4c8e-f5f7-bfaf21728799"
      },
      "execution_count": null,
      "outputs": [
        {
          "output_type": "stream",
          "name": "stdout",
          "text": [
            "Last three elements: [7, 8, 9]\n"
          ]
        }
      ]
    },
    {
      "cell_type": "markdown",
      "source": [
        "**Question 3:** List Comprehension"
      ],
      "metadata": {
        "id": "8b4XD9hpqw2k"
      }
    },
    {
      "cell_type": "code",
      "source": [
        "# a) Create a list named 'squares' containing the squares of numbers from 1 to 10\n",
        "squares = [x ** 2 for x in range(1, 11)]\n",
        "\n",
        "print(\"Squares:\", squares)\n"
      ],
      "metadata": {
        "colab": {
          "base_uri": "https://localhost:8080/"
        },
        "id": "8yQgNWdzq2Bz",
        "outputId": "abf21562-1087-4302-cee1-b7014b4be81e"
      },
      "execution_count": null,
      "outputs": [
        {
          "output_type": "stream",
          "name": "stdout",
          "text": [
            "Squares: [1, 4, 9, 16, 25, 36, 49, 64, 81, 100]\n"
          ]
        }
      ]
    },
    {
      "cell_type": "code",
      "source": [
        "# b) Create a new list named 'even_squares' containing the squares of even numbers from the 'squares' list\n",
        "even_squares = [x for x in squares if x % 2 == 0]\n",
        "\n",
        "print(\"Even Squares:\", even_squares)\n"
      ],
      "metadata": {
        "colab": {
          "base_uri": "https://localhost:8080/"
        },
        "id": "MSa3OqxWrYDI",
        "outputId": "2a6f7915-e10d-4c2f-9144-af039ccd8cb9"
      },
      "execution_count": null,
      "outputs": [
        {
          "output_type": "stream",
          "name": "stdout",
          "text": [
            "Even Squares: [4, 16, 36, 64, 100]\n"
          ]
        }
      ]
    },
    {
      "cell_type": "markdown",
      "source": [
        "**Question 4:** List Manipulation"
      ],
      "metadata": {
        "id": "NX2S8q2sswAM"
      }
    },
    {
      "cell_type": "code",
      "source": [
        "# a) Create a list named 'colors'\n",
        "colors = [\"red\", \"green\", \"blue\", \"yellow\", \"purple\"]\n",
        "\n",
        "print(colors)\n"
      ],
      "metadata": {
        "colab": {
          "base_uri": "https://localhost:8080/"
        },
        "id": "PVMKhAkTssSJ",
        "outputId": "0813bf26-3cee-4662-a121-d14a2340634a"
      },
      "execution_count": null,
      "outputs": [
        {
          "output_type": "stream",
          "name": "stdout",
          "text": [
            "['red', 'green', 'blue', 'yellow', 'purple']\n"
          ]
        }
      ]
    },
    {
      "cell_type": "code",
      "source": [
        "# b) Swap the first and last elements of the list\n",
        "colors[0], colors[-1] = colors[-1], colors[0]\n",
        "\n",
        "print(colors)\n"
      ],
      "metadata": {
        "colab": {
          "base_uri": "https://localhost:8080/"
        },
        "id": "SDN2JoKGtDwa",
        "outputId": "5d65c484-5893-41fd-cfdf-d5f7930b142b"
      },
      "execution_count": null,
      "outputs": [
        {
          "output_type": "stream",
          "name": "stdout",
          "text": [
            "['purple', 'green', 'blue', 'yellow', 'red']\n"
          ]
        }
      ]
    },
    {
      "cell_type": "code",
      "source": [
        "# c) Reverse the order of the list\n",
        "colors.reverse()\n",
        "\n",
        "print(colors)\n"
      ],
      "metadata": {
        "colab": {
          "base_uri": "https://localhost:8080/"
        },
        "id": "9reudg0AtSRw",
        "outputId": "284af401-33b1-4d29-d41d-1bf81a234813"
      },
      "execution_count": null,
      "outputs": [
        {
          "output_type": "stream",
          "name": "stdout",
          "text": [
            "['red', 'yellow', 'blue', 'green', 'purple']\n"
          ]
        }
      ]
    },
    {
      "cell_type": "code",
      "source": [
        "# d) Remove the second and third elements from the list\n",
        "del colors[1:3]\n",
        "\n",
        "print(colors)\n"
      ],
      "metadata": {
        "colab": {
          "base_uri": "https://localhost:8080/"
        },
        "id": "sPREGD98tc68",
        "outputId": "ec79a6b3-bba6-4c4b-d4f2-37d7da4154cb"
      },
      "execution_count": null,
      "outputs": [
        {
          "output_type": "stream",
          "name": "stdout",
          "text": [
            "['red', 'green', 'purple']\n"
          ]
        }
      ]
    },
    {
      "cell_type": "markdown",
      "source": [
        "**Question 5:** Advanced Slicing"
      ],
      "metadata": {
        "id": "jJMr97n-uRW_"
      }
    },
    {
      "cell_type": "code",
      "source": [
        "# a) Create a list named 'letters' containing the letters from 'a' to 'j'\n",
        "letters = ['a', 'b', 'c', 'd', 'e', 'f', 'g', 'h', 'i', 'j']\n",
        "\n",
        "print(\"Letters:\", letters)\n"
      ],
      "metadata": {
        "colab": {
          "base_uri": "https://localhost:8080/"
        },
        "id": "77w83qyTuVPO",
        "outputId": "a5083dc8-5e0e-4185-e658-f2fcc4b71e75"
      },
      "execution_count": null,
      "outputs": [
        {
          "output_type": "stream",
          "name": "stdout",
          "text": [
            "Letters: ['a', 'b', 'c', 'd', 'e', 'f', 'g', 'h', 'i', 'j']\n"
          ]
        }
      ]
    },
    {
      "cell_type": "code",
      "source": [
        "# b) Using slicing, create a new list 'first_half' containing the first half of the 'letters' list\n",
        "first_half = letters[:len(letters)//2]\n",
        "\n",
        "print(\"First Half:\", first_half)\n"
      ],
      "metadata": {
        "colab": {
          "base_uri": "https://localhost:8080/"
        },
        "id": "iun3BI01uwGd",
        "outputId": "1abef71a-4531-48a8-e092-b3b7f47d5872"
      },
      "execution_count": null,
      "outputs": [
        {
          "output_type": "stream",
          "name": "stdout",
          "text": [
            "First Half: ['a', 'b', 'c', 'd', 'e']\n"
          ]
        }
      ]
    },
    {
      "cell_type": "code",
      "source": [
        "# c) Using slicing, create a new list 'last_three' containing the last three elements of the 'letters' list\n",
        "last_three = letters[-3:]\n",
        "\n",
        "print(\"Last Three:\", last_three)\n"
      ],
      "metadata": {
        "colab": {
          "base_uri": "https://localhost:8080/"
        },
        "id": "lFyo75TAu9Zi",
        "outputId": "07f48d80-c28e-43f0-e8c4-9be20e96aed6"
      },
      "execution_count": null,
      "outputs": [
        {
          "output_type": "stream",
          "name": "stdout",
          "text": [
            "Last Three: ['h', 'i', 'j']\n"
          ]
        }
      ]
    },
    {
      "cell_type": "markdown",
      "source": [
        "**Question 6:** Nested Lists"
      ],
      "metadata": {
        "id": "RjGzODaXvQmJ"
      }
    },
    {
      "cell_type": "code",
      "source": [
        "# a) Create a nested list named 'matrix'\n",
        "matrix = [\n",
        "    [1, 2, 3],\n",
        "    [4, 5, 6],\n",
        "    [7, 8, 9]\n",
        "]\n",
        "\n",
        "for row in matrix:\n",
        "    print(row)\n"
      ],
      "metadata": {
        "colab": {
          "base_uri": "https://localhost:8080/"
        },
        "id": "l5qlWCrkvX2Z",
        "outputId": "af19af63-ccc2-4686-f99e-6e26af4b4e86"
      },
      "execution_count": null,
      "outputs": [
        {
          "output_type": "stream",
          "name": "stdout",
          "text": [
            "[1, 2, 3]\n",
            "[4, 5, 6]\n",
            "[7, 8, 9]\n"
          ]
        }
      ]
    },
    {
      "cell_type": "code",
      "source": [
        "# b) Print the element in the second row and third column\n",
        "element = matrix[1][2]\n",
        "\n",
        "print(\"Element in the second row and third column:\", element)\n"
      ],
      "metadata": {
        "colab": {
          "base_uri": "https://localhost:8080/"
        },
        "id": "0aFX_CCevos0",
        "outputId": "6072fe35-dd84-4889-a6a0-23adbbcc29af"
      },
      "execution_count": null,
      "outputs": [
        {
          "output_type": "stream",
          "name": "stdout",
          "text": [
            "Element in the second row and third column: 6\n"
          ]
        }
      ]
    },
    {
      "cell_type": "code",
      "source": [
        "# c) Use nested indexing to change the value at the second row and first column to 0\n",
        "matrix[1][0] = 0\n",
        "\n",
        "for row in matrix:\n",
        "    print(row)\n"
      ],
      "metadata": {
        "colab": {
          "base_uri": "https://localhost:8080/"
        },
        "id": "wyXrwmOov0zL",
        "outputId": "0b719e4b-24dd-44a1-feff-780f7ee8a51f"
      },
      "execution_count": null,
      "outputs": [
        {
          "output_type": "stream",
          "name": "stdout",
          "text": [
            "[1, 2, 3]\n",
            "[0, 5, 6]\n",
            "[7, 8, 9]\n"
          ]
        }
      ]
    }
  ]
}